{
 "cells": [
  {
   "cell_type": "code",
   "execution_count": 8,
   "id": "bff674be",
   "metadata": {},
   "outputs": [],
   "source": [
    "# importing os module \n",
    "import os\n",
    "#import the pandas library and aliasing as pd\n",
    "import pandas as pd"
   ]
  },
  {
   "cell_type": "code",
   "execution_count": 2,
   "id": "122b499b",
   "metadata": {},
   "outputs": [],
   "source": [
    "def yesno(question):\n",
    "    \"\"\"Simple Yes/No Function.\"\"\"\n",
    "    prompt = f'{question} ? (y/n): '\n",
    "    ans = input(prompt).strip().lower()\n",
    "    if ans not in ['y', 'n']:\n",
    "        print(f'{ans} is invalid, please try again...')\n",
    "        return yesno(question)\n",
    "    if ans == 'y':\n",
    "        return True\n",
    "    return False"
   ]
  },
  {
   "cell_type": "code",
   "execution_count": 3,
   "id": "71f14322",
   "metadata": {},
   "outputs": [],
   "source": [
    "def GenerateData(fname, path):\n",
    "    rmsdpp_file = open(path + '/rmsdpp.dat', \"x\")\n",
    "    with open(fname, 'r') as f:\n",
    "        for line in f.readlines():\n",
    "            if 'RMSDPP' in line:\n",
    "                rmsdpp_file.write(str(line.split()[-1]) + '\\n')\n",
    "    rmsdpp_file.close()\n",
    "\n",
    "\n",
    "    rmsdpe_file = open(path + '/rmsdpe.dat', \"x\")\n",
    "    with open(fname, 'r') as f:\n",
    "        for line in f.readlines():\n",
    "            if 'RMSDPE' in line:\n",
    "                rmsdpe_file.write(str(line.split()[-1]) + '\\n')\n",
    "    rmsdpe_file.close()\n",
    "\n",
    "\n",
    "    energy_file = open(path + '/energy.dat', \"x\")\n",
    "    with open(fname, 'r') as f:\n",
    "        for line in f.readlines():\n",
    "            if ('smt' in fname):\n",
    "                if ('The Energy for This Iteration is:' in line):\n",
    "                    energy_file.write(str(line.split()[6]) + '\\n')\n",
    "            else:\n",
    "                if 'SubSCF Loop, Total Energy = ' in line:\n",
    "                    energy_file.write(str(line.split()[7]) + '\\n')\n",
    "    energy_file.close()"
   ]
  },
  {
   "cell_type": "code",
   "execution_count": 4,
   "id": "719f6069",
   "metadata": {},
   "outputs": [
    {
     "name": "stdout",
     "output_type": "stream",
     "text": [
      "hcn_smt_ccpvdz_pb4f1.log\n",
      "hcn_stw_ccpvtz_pb4f1.log\n",
      "hcn_stw_ccpvqz_pb4f1.log\n",
      "hcn_stw_ccpvdz_pb4f1.log\n",
      "hcn_smt_ccpvtz_pb4f1.log\n",
      "hcn_smt_ccpvqz_pb4f1.log\n"
     ]
    }
   ],
   "source": [
    "cwd = os.getcwd()\n",
    "\n",
    "log_files = []\n",
    "\n",
    "for file in os.listdir(cwd):\n",
    "    filename = os.fsdecode(file)\n",
    "    if filename.endswith(\".log\"):\n",
    "        total_name = os.path.join(cwd, filename)\n",
    "        no_path_name = total_name.split(\"/\")[-1] \n",
    "        print(no_path_name)\n",
    "        log_files.insert(0,str(no_path_name))"
   ]
  },
  {
   "cell_type": "code",
   "execution_count": 5,
   "id": "5dc21b2f",
   "metadata": {},
   "outputs": [
    {
     "data": {
      "text/plain": [
       "['hcn_smt_ccpvqz_pb4f1.log',\n",
       " 'hcn_smt_ccpvtz_pb4f1.log',\n",
       " 'hcn_stw_ccpvdz_pb4f1.log',\n",
       " 'hcn_stw_ccpvqz_pb4f1.log',\n",
       " 'hcn_stw_ccpvtz_pb4f1.log',\n",
       " 'hcn_smt_ccpvdz_pb4f1.log']"
      ]
     },
     "execution_count": 5,
     "metadata": {},
     "output_type": "execute_result"
    }
   ],
   "source": [
    "log_files"
   ]
  },
  {
   "cell_type": "code",
   "execution_count": 6,
   "id": "9e4a4aed",
   "metadata": {},
   "outputs": [
    {
     "name": "stdout",
     "output_type": "stream",
     "text": [
      "Do you want to save the data ? (y/n): n\n",
      "you answer was: False\n"
     ]
    }
   ],
   "source": [
    "saveData = yesno(\"Do you want to save the data\")\n",
    "print(f'you answer was: {saveData}')"
   ]
  },
  {
   "cell_type": "code",
   "execution_count": 7,
   "id": "763d4dd5",
   "metadata": {},
   "outputs": [],
   "source": [
    "if (saveData):\n",
    "    for log_file in log_files:\n",
    "        destination_dir = log_file[:-4]\n",
    "        all_data_storage_dir = '/Users/aodongliu/LiGroup/gaussian/test_py_data_processing/Data'\n",
    "        path = os.path.join(all_data_storage_dir, destination_dir)\n",
    "        os.mkdir(path)\n",
    "        GenerateData(log_file,path)"
   ]
  },
  {
   "cell_type": "code",
   "execution_count": 17,
   "id": "43092ffe",
   "metadata": {},
   "outputs": [
    {
     "data": {
      "text/plain": [
       "['hcn', 'smt', 'ccpvqz', 'pb4f1.log']"
      ]
     },
     "execution_count": 17,
     "metadata": {},
     "output_type": "execute_result"
    }
   ],
   "source": [
    "name = 'hcn_smt_ccpvqz_pb4f1.log'\n",
    "\n",
    "name.split('_')"
   ]
  },
  {
   "cell_type": "code",
   "execution_count": 14,
   "id": "79f591ed",
   "metadata": {},
   "outputs": [],
   "source": [
    "def getInfo(log_file):\n",
    "        \n",
    "    Filename = log_file[:-4]\n",
    "    \n",
    "    Structure = log_file.split('_')[0]\n",
    "    \n",
    "    \n",
    "    \n",
    "    \n"
   ]
  },
  {
   "cell_type": "code",
   "execution_count": null,
   "id": "b7ca61f6",
   "metadata": {},
   "outputs": [],
   "source": [
    "Data = []\n",
    "for log_file in log_files:"
   ]
  },
  {
   "cell_type": "code",
   "execution_count": null,
   "id": "32ff5c98",
   "metadata": {},
   "outputs": [],
   "source": []
  },
  {
   "cell_type": "code",
   "execution_count": null,
   "id": "a92d5cf4",
   "metadata": {},
   "outputs": [],
   "source": []
  },
  {
   "cell_type": "code",
   "execution_count": null,
   "id": "4feb9ff0",
   "metadata": {},
   "outputs": [],
   "source": []
  },
  {
   "cell_type": "code",
   "execution_count": null,
   "id": "5d3a425c",
   "metadata": {},
   "outputs": [],
   "source": []
  },
  {
   "cell_type": "code",
   "execution_count": 13,
   "id": "6f7b6db0",
   "metadata": {},
   "outputs": [
    {
     "name": "stdout",
     "output_type": "stream",
     "text": [
      "Empty DataFrame\n",
      "Columns: [Filename, Structure, EBasis, PBasis, NEBasis, NPBasis, NIter-SMT, NIter-STW-E, NIter-STW-P]\n",
      "Index: []\n"
     ]
    }
   ],
   "source": [
    "df = pd.DataFrame(columns=['Filename',\n",
    "                          'Structure',\n",
    "                          'EBasis',\n",
    "                          'PBasis',\n",
    "                          'NEBasis',\n",
    "                          'NPBasis',\n",
    "                          'NIter-SMT',\n",
    "                          'NIter-STW-E',\n",
    "                          'NIter-STW-P',\n",
    "                          ])\n",
    "print (df)"
   ]
  },
  {
   "cell_type": "code",
   "execution_count": null,
   "id": "bce0e8a6",
   "metadata": {},
   "outputs": [],
   "source": []
  }
 ],
 "metadata": {
  "kernelspec": {
   "display_name": "Python 3",
   "language": "python",
   "name": "python3"
  },
  "language_info": {
   "codemirror_mode": {
    "name": "ipython",
    "version": 3
   },
   "file_extension": ".py",
   "mimetype": "text/x-python",
   "name": "python",
   "nbconvert_exporter": "python",
   "pygments_lexer": "ipython3",
   "version": "3.8.8"
  }
 },
 "nbformat": 4,
 "nbformat_minor": 5
}
