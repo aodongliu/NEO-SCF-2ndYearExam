{
 "cells": [
  {
   "cell_type": "code",
   "execution_count": 1,
   "metadata": {},
   "outputs": [],
   "source": [
    "import numpy as np\n",
    "import matplotlib.pyplot as plt"
   ]
  },
  {
   "cell_type": "code",
   "execution_count": 2,
   "metadata": {},
   "outputs": [],
   "source": [
    "def set_shared_ylabel(a, ylabel, labelpad = 0.01):\n",
    "    \"\"\"Set a y label shared by multiple axes\n",
    "    Parameters\n",
    "    ----------\n",
    "    a: list of axes\n",
    "    ylabel: string\n",
    "    labelpad: float\n",
    "        Sets the padding between ticklabels and axis label\"\"\"\n",
    "\n",
    "    f = a[0].get_figure()\n",
    "    f.canvas.draw() #sets f.canvas.renderer needed below\n",
    "\n",
    "    # get the center position for all plots\n",
    "    top = a[0].get_position().y1\n",
    "    bottom = a[-1].get_position().y0\n",
    "\n",
    "    # get the coordinates of the left side of the tick labels \n",
    "    x0 = 1\n",
    "    for at in a:\n",
    "        at.set_ylabel('') # just to make sure we don't and up with multiple labels\n",
    "        bboxes, _ = at.yaxis.get_ticklabel_extents(f.canvas.renderer)\n",
    "        bboxes = bboxes.inverse_transformed(f.transFigure)\n",
    "        xt = bboxes.x0\n",
    "        if xt < x0:\n",
    "            x0 = xt\n",
    "    tick_label_left = x0\n",
    "\n",
    "    # set position of label\n",
    "    a[-1].set_ylabel(ylabel)\n",
    "    a[-1].yaxis.set_label_coords(tick_label_left - labelpad,(bottom + top)/2, transform=f.transFigure)\n",
    "\n"
   ]
  },
  {
   "cell_type": "code",
   "execution_count": 6,
   "metadata": {},
   "outputs": [],
   "source": [
    "# set height of bar\n",
    "coh2_simul_diis = np.array([135,189,150,160]) \n",
    "coh2_simul_nodiis = np.array([2969,4729,3071,3336]) \n",
    "coh2_stw_diis = np.array([4064,5708,4081,5299])\n",
    "\n",
    "# set height of bar\n",
    "hcn_simul_diis = np.array([118,105,101,101]) \n",
    "hcn_simul_nodiis = np.array([2387,2827,2419,2676]) \n",
    "hcn_stw_diis = np.array([3065,3327,2983,3829])\n",
    "\n",
    "# set height of bar\n",
    "fhf_simul_diis = np.array([54,78,66,70])\n",
    "fhf_simul_nodiis = np.array([1125,1130,1149,1280])\n",
    "fhf_stw_diis = np.array([867,901,934,1109])"
   ]
  },
  {
   "cell_type": "code",
   "execution_count": 7,
   "metadata": {},
   "outputs": [],
   "source": [
    "# set width of bar\n",
    "barWidth = 0.1\n",
    "\n",
    "# Set position of bar on X axis\n",
    "br1 = np.arange(len(coh2_simul_diis))\n",
    "br2 = [x + barWidth for x in br1]\n",
    "br3 = [x + barWidth for x in br2]"
   ]
  },
  {
   "cell_type": "code",
   "execution_count": 9,
   "metadata": {},
   "outputs": [
    {
     "name": "stderr",
     "output_type": "stream",
     "text": [
      "/Users/aodongliu/opt/anaconda3/lib/python3.7/site-packages/ipykernel_launcher.py:11: UserWarning: This figure includes Axes that are not compatible with tight_layout, so results might be incorrect.\n",
      "  # This is added back by InteractiveShellApp.init_path()\n",
      "/Users/aodongliu/opt/anaconda3/lib/python3.7/site-packages/ipykernel_launcher.py:22: MatplotlibDeprecationWarning: \n",
      "The inverse_transformed function was deprecated in Matplotlib 3.3 and will be removed two minor releases later. Use transformed(transform.inverted()) instead.\n",
      "/Users/aodongliu/opt/anaconda3/lib/python3.7/site-packages/ipykernel_launcher.py:47: UserWarning: This figure includes Axes that are not compatible with tight_layout, so results might be incorrect.\n",
      "/Users/aodongliu/opt/anaconda3/lib/python3.7/site-packages/ipykernel_launcher.py:47: UserWarning: This figure includes Axes that are not compatible with tight_layout, so results might be incorrect.\n",
      "/Users/aodongliu/opt/anaconda3/lib/python3.7/site-packages/IPython/core/pylabtools.py:128: UserWarning: This figure includes Axes that are not compatible with tight_layout, so results might be incorrect.\n",
      "  fig.canvas.print_figure(bytes_io, **kw)\n"
     ]
    },
    {
     "data": {
      "image/png": "[encoded data removed]",
      "text/plain": [
       "<Figure size 432x432 with 3 Axes>"
      ]
     },
     "metadata": {
      "needs_background": "light"
     },
     "output_type": "display_data"
    }
   ],
   "source": [
    "fig, (ax1, ax2, ax3) = plt.subplots(3, 1,figsize =(6, 6), sharex=True, sharey='row', gridspec_kw={'hspace': 0.2},tight_layout=True)\n",
    "# fig = plt.figure(figsize =(16, 8),tight_layout=True)\n",
    "# ax1 = fig.add_subplot(311)\n",
    "# ax2 = fig.add_subplot(312)\n",
    "# ax3 = fig.add_subplot(313)\n",
    "\n",
    "ax1.bar(br3, coh2_simul_diis, color ='#599ad3', width = barWidth,\n",
    "        edgecolor ='black', label ='Simulaneous-DIIS')\n",
    "ax1.bar(br2, coh2_simul_nodiis, color ='#f9a65a', width = barWidth,\n",
    "        edgecolor ='black', label ='Simultaneous-NoDIIS')\n",
    "ax1.bar(br1, coh2_stw_diis, color ='#9e66ab', width = barWidth,\n",
    "        edgecolor ='black', label ='Stepwise-DIIS')\n",
    "ax1.legend(loc='upper right', fontsize=7)\n",
    "# ax1.set_xticks([r + barWidth for r in range(len(coh2_simul_diis))])\n",
    "# ax1.set_xticklabels(['cc-pvtz/pb4f2', 'cc-pvqz/pb4f2', 'cc-pvtz/pb4f1', 'cc-pvtz/pb4d'],fontsize=8)\n",
    "\n",
    "\n",
    "ax2.bar(br3, hcn_simul_diis, color ='#599ad3', width = barWidth,\n",
    "        edgecolor ='black', label ='Simul-DIIS')\n",
    "ax2.bar(br2, hcn_simul_nodiis, color ='#f9a65a', width = barWidth,\n",
    "        edgecolor ='black', label ='Simul-NoDIIS')\n",
    "ax2.bar(br1, hcn_stw_diis, color ='#9e66ab', width = barWidth,\n",
    "        edgecolor ='black', label ='STW-DIIS')\n",
    "# ax2.set_xticks([r + barWidth for r in range(len(coh2_simul_diis))])\n",
    "# ax2.set_xticklabels(['cc-pvtz/pb4f2', 'cc-pvqz/pb4f2', 'cc-pvtz/pb4f1', 'cc-pvtz/pb4d'],fontsize=8)\n",
    "\n",
    "\n",
    "ax3.bar(br3, fhf_simul_diis, color ='#599ad3', width = barWidth,\n",
    "        edgecolor ='black', label ='Simultaneous-DIIS')\n",
    "ax3.bar(br2, fhf_simul_nodiis, color ='#f9a65a', width = barWidth,\n",
    "        edgecolor ='black', label ='Simultaneous-NoDIIS')\n",
    "ax3.bar(br1, fhf_stw_diis, color ='#9e66ab', width = barWidth,\n",
    "        edgecolor ='black', label ='Stepwise-DIIS')\n",
    "ax3.set_xticks([r + barWidth for r in range(len(coh2_simul_diis))])\n",
    "ax3.set_xticklabels(['cc-pvtz/pb4f2', 'cc-pvqz/pb4f2', 'cc-pvtz/pb4f1', 'cc-pvtz/pb4d'],fontsize=8)\n",
    "#ax3.set_yticks(np.arange(0, max(fhf_simul_nodiis)+1, 2))\n",
    "\n",
    "ax1.title.set_text('COH$_2$')\n",
    "ax2.title.set_text('HCN')\n",
    "ax3.title.set_text('FHF$^-$')\n",
    "\n",
    "\n",
    "plt.xlabel(\"Basis Set Used for Electrons/Quantum Protons\")\n",
    "set_shared_ylabel((ax1, ax2, ax3), '# of Fock Builds')\n",
    "\n",
    "\n",
    "plt.savefig('small_system_AlgvsFockBuild.pdf',dpi=600)\n",
    "plt.show()\n",
    "\n"
   ]
  },
  {
   "cell_type": "code",
   "execution_count": null,
   "metadata": {},
   "outputs": [],
   "source": []
  },
  {
   "cell_type": "code",
   "execution_count": null,
   "metadata": {},
   "outputs": [],
   "source": []
  }
 ],
 "metadata": {
  "kernelspec": {
   "display_name": "Python 3",
   "language": "python",
   "name": "python3"
  },
  "language_info": {
   "codemirror_mode": {
    "name": "ipython",
    "version": 3
   },
   "file_extension": ".py",
   "mimetype": "text/x-python",
   "name": "python",
   "nbconvert_exporter": "python",
   "pygments_lexer": "ipython3",
   "version": "3.7.4"
  }
 },
 "nbformat": 4,
 "nbformat_minor": 2
}
