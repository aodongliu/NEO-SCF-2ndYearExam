{
 "cells": [
  {
   "cell_type": "code",
   "execution_count": 1,
   "id": "691b986b",
   "metadata": {},
   "outputs": [],
   "source": [
    "from __future__ import division\n",
    "import numpy as np\n",
    "import scipy.linalg as slg\n",
    "import math\n",
    "import sys\n",
    "from numpy import genfromtxt\n",
    "import csv\n",
    "from numpy import linalg as LA\n",
    "from numpy.linalg import inv"
   ]
  },
  {
   "cell_type": "code",
   "execution_count": 14,
   "id": "0f616a13",
   "metadata": {},
   "outputs": [],
   "source": [
    "def str2float(s):\n",
    "    return float(s.replace('D','e'))\n",
    "\n",
    "def CutLTMatOut(fname, head_line, index=0):\n",
    "    cur_index = 0\n",
    "    f = open(fname)\n",
    "    status = None\n",
    "    r = 0\n",
    "    indices = []\n",
    "    mat = []\n",
    "    for line in f:\n",
    "        if head_line in line:\n",
    "            status = \"Column Indices\"\n",
    "            continue\n",
    "        if status == \"Rows\":\n",
    "            splitted = line.split()\n",
    "            if all([x.isnumeric() for x in splitted]):\n",
    "                status = \"Column Indices\"\n",
    "            else:\n",
    "                try:\n",
    "                    r = int(splitted[0])\n",
    "                    floats = [str2float(s) for s in splitted[1:]]\n",
    "                    if len(mat) < r:\n",
    "                        mat.append(floats)\n",
    "                    else:\n",
    "                        mat[r-1] += floats\n",
    "                except ValueError as e:\n",
    "                    break\n",
    "                continue\n",
    "        if status == \"Column Indices\":\n",
    "            status = \"Rows\"\n",
    "            indices = [int(I) for I in line.split()]\n",
    "            continue\n",
    "    f.close()\n",
    "    return mat\n",
    "\n",
    "def toNPMatrix(mat_array, symmetry = 'symmetric'):\n",
    "    dim = len(mat_array)\n",
    "    mat = np.zeros((dim,dim))\n",
    "    for i in range(dim):\n",
    "        mat[i,:i+1] = mat_array[i]\n",
    "    if symmetry == 'symmetric':\n",
    "        diag = np.diag(np.diag(mat))\n",
    "        return mat + mat.T - diag\n",
    "    elif symmetry == 'anti-symmetric':\n",
    "        return mat - mat.T\n",
    "\n",
    "\n",
    "def ReadMatrix(fname, head_line, index=0):\n",
    "    return np.array(CutLTMatOut(fname, head_line, index))\n",
    "\n",
    "def ReadLowerTri(fname, head_line, index=0, symmetry = 'symmetric'):\n",
    "    return toNPMatrix(CutLTMatOut(fname, head_line, index), symmetry)\n",
    "\n",
    "def outMatrix(A):\n",
    "    if np.iscomplexobj(A):\n",
    "        print(\"Real part:\")\n",
    "        outMatrix(A.real)\n",
    "        print()\n",
    "        print(\"Imag part:\")\n",
    "        outMatrix(A.imag)\n",
    "        return\n",
    "    print(\"--------------------------------------------------------------------------------\")\n",
    "    curColStart, curColEnd = 0, 5\n",
    "    while curColStart < A.shape[1]:\n",
    "        curColEnd = min(curColStart + 5, A.shape[1])\n",
    "        print(\"     \"+\"               \".join(list(map(str, range(curColStart + 1, curColEnd + 1)))))\n",
    "        for i in range(A.shape[0]):\n",
    "            print(\"%3d   \"%(i+1,) + \" \".join(list(map(lambda x : \"%15.8e\"%(x if abs(x) > 1e-8 else 0,) , A[i, curColStart : curColEnd]))))\n",
    "        curColStart += 5\n",
    "        print()\n",
    "\n",
    "    print(\"--------------------------------------------------------------------------------\")\n",
    "\n",
    "def RMSD(V, W):\n",
    "    \"\"\"\n",
    "    Calculate Root-mean-square deviation from two sets of vectors V and W.\n",
    "    Parameters\n",
    "    ----------\n",
    "    V : array\n",
    "        (N,D) matrix, where N is points and D is dimension.\n",
    "    W : array\n",
    "        (N,D) matrix, where N is points and D is dimension.\n",
    "    Returns\n",
    "    -------\n",
    "    rmsd : float\n",
    "        Root-mean-square deviation between the two vectors\n",
    "    \"\"\"\n",
    "    diff = np.array(V) - np.array(W)\n",
    "    N = len(V)\n",
    "    return np.sqrt( np.trace(diff * diff) / N)\n",
    "    "
   ]
  },
  {
   "cell_type": "code",
   "execution_count": 9,
   "id": "048f383c",
   "metadata": {},
   "outputs": [],
   "source": [
    "fname = \"./neo_small_basis_stw.log\"\n",
    "last_Den_hl = 'Newest Densitylol3'\n",
    "cur_Den_hl = 'Newest Densitylol4'\n"
   ]
  },
  {
   "cell_type": "code",
   "execution_count": 10,
   "id": "895999fc",
   "metadata": {},
   "outputs": [],
   "source": [
    "last_Den = ReadLowerTri(fname, last_Den_hl)\n",
    "cur_Den = ReadLowerTri(fname, cur_Den_hl)"
   ]
  },
  {
   "cell_type": "code",
   "execution_count": 11,
   "id": "3d4440f9",
   "metadata": {},
   "outputs": [
    {
     "name": "stdout",
     "output_type": "stream",
     "text": [
      "--------------------------------------------------------------------------------\n",
      "     1               2               3               4               5\n",
      "  1    9.41329000e-01  2.12384000e-01  0.00000000e+00 -1.00607000e-01  0.00000000e+00\n",
      "  2    2.12384000e-01  4.79184000e-02  0.00000000e+00 -2.26992000e-02  0.00000000e+00\n",
      "  3    0.00000000e+00  0.00000000e+00  0.00000000e+00  0.00000000e+00  0.00000000e+00\n",
      "  4   -1.00607000e-01 -2.26992000e-02  0.00000000e+00  1.07527000e-02  0.00000000e+00\n",
      "  5    0.00000000e+00  0.00000000e+00  0.00000000e+00  0.00000000e+00  9.41329000e-01\n",
      "  6    0.00000000e+00  0.00000000e+00  0.00000000e+00  0.00000000e+00 -2.12384000e-01\n",
      "  7    0.00000000e+00  0.00000000e+00  0.00000000e+00  0.00000000e+00  0.00000000e+00\n",
      "  8    0.00000000e+00  0.00000000e+00  0.00000000e+00  0.00000000e+00 -1.00607000e-01\n",
      "\n",
      "     6               7               8\n",
      "  1    0.00000000e+00  0.00000000e+00  0.00000000e+00\n",
      "  2    0.00000000e+00  0.00000000e+00  0.00000000e+00\n",
      "  3    0.00000000e+00  0.00000000e+00  0.00000000e+00\n",
      "  4    0.00000000e+00  0.00000000e+00  0.00000000e+00\n",
      "  5   -2.12384000e-01  0.00000000e+00 -1.00607000e-01\n",
      "  6    4.79184000e-02  0.00000000e+00  2.26992000e-02\n",
      "  7    0.00000000e+00  0.00000000e+00  0.00000000e+00\n",
      "  8    2.26992000e-02  0.00000000e+00  1.07527000e-02\n",
      "\n",
      "--------------------------------------------------------------------------------\n"
     ]
    }
   ],
   "source": [
    "outMatrix(last_Den)"
   ]
  },
  {
   "cell_type": "code",
   "execution_count": 12,
   "id": "170d1fc6",
   "metadata": {},
   "outputs": [
    {
     "name": "stdout",
     "output_type": "stream",
     "text": [
      "--------------------------------------------------------------------------------\n",
      "     1               2               3               4               5\n",
      "  1    9.41329000e-01  2.12387000e-01  0.00000000e+00 -1.00603000e-01  0.00000000e+00\n",
      "  2    2.12387000e-01  4.79196000e-02  0.00000000e+00 -2.26985000e-02  0.00000000e+00\n",
      "  3    0.00000000e+00  0.00000000e+00  0.00000000e+00  0.00000000e+00  0.00000000e+00\n",
      "  4   -1.00603000e-01 -2.26985000e-02  0.00000000e+00  1.07518000e-02  0.00000000e+00\n",
      "  5    0.00000000e+00  0.00000000e+00  0.00000000e+00  0.00000000e+00  9.41329000e-01\n",
      "  6    0.00000000e+00  0.00000000e+00  0.00000000e+00  0.00000000e+00 -2.12387000e-01\n",
      "  7    0.00000000e+00  0.00000000e+00  0.00000000e+00  0.00000000e+00  0.00000000e+00\n",
      "  8    0.00000000e+00  0.00000000e+00  0.00000000e+00  0.00000000e+00 -1.00603000e-01\n",
      "\n",
      "     6               7               8\n",
      "  1    0.00000000e+00  0.00000000e+00  0.00000000e+00\n",
      "  2    0.00000000e+00  0.00000000e+00  0.00000000e+00\n",
      "  3    0.00000000e+00  0.00000000e+00  0.00000000e+00\n",
      "  4    0.00000000e+00  0.00000000e+00  0.00000000e+00\n",
      "  5   -2.12387000e-01  0.00000000e+00 -1.00603000e-01\n",
      "  6    4.79196000e-02  0.00000000e+00  2.26985000e-02\n",
      "  7    0.00000000e+00  0.00000000e+00  0.00000000e+00\n",
      "  8    2.26985000e-02  0.00000000e+00  1.07518000e-02\n",
      "\n",
      "--------------------------------------------------------------------------------\n"
     ]
    }
   ],
   "source": [
    "outMatrix(cur_Den)"
   ]
  },
  {
   "cell_type": "code",
   "execution_count": 15,
   "id": "03a0cbce",
   "metadata": {},
   "outputs": [
    {
     "data": {
      "text/plain": [
       "7.499999999998827e-07"
      ]
     },
     "execution_count": 15,
     "metadata": {},
     "output_type": "execute_result"
    }
   ],
   "source": [
    "RMSD(last_Den,cur_Den)"
   ]
  },
  {
   "cell_type": "code",
   "execution_count": null,
   "id": "2ea3c602",
   "metadata": {},
   "outputs": [],
   "source": []
  }
 ],
 "metadata": {
  "kernelspec": {
   "display_name": "Python 3",
   "language": "python",
   "name": "python3"
  },
  "language_info": {
   "codemirror_mode": {
    "name": "ipython",
    "version": 3
   },
   "file_extension": ".py",
   "mimetype": "text/x-python",
   "name": "python",
   "nbconvert_exporter": "python",
   "pygments_lexer": "ipython3",
   "version": "3.8.8"
  }
 },
 "nbformat": 4,
 "nbformat_minor": 5
}
