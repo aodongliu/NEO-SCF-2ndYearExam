{
 "cells": [
  {
   "cell_type": "code",
   "execution_count": 1,
   "metadata": {},
   "outputs": [],
   "source": [
    "def merge_multi_line(lines, fortran = True):\n",
    "    if fortran:\n",
    "        return ''.join([line[6:].strip() for line in lines.splitlines()])\n",
    "    else:\n",
    "        return ''.join([line.strip() for line in lines.splitlines()])\n",
    "def uneven_parentheses(line):\n",
    "    return line.count('(') - line.count(')')\n",
    "def split_args(args):\n",
    "    tmp_arg_list = args[args.find('(')+1: args.rfind(')')].split(',')\n",
    "    arg_list = []\n",
    "    uneven_rank = 0\n",
    "    tmp_str = \"\"\n",
    "    for arg in tmp_arg_list:\n",
    "        uneven_rank += uneven_parentheses(arg)\n",
    "        if uneven_rank != 0:\n",
    "            tmp_str += arg + ','\n",
    "        else:\n",
    "            tmp_str += arg\n",
    "            arg_list.append(tmp_str)\n",
    "            tmp_str = \"\"\n",
    "    return arg_list"
   ]
  },
  {
   "cell_type": "code",
   "execution_count": 2,
   "metadata": {},
   "outputs": [],
   "source": [
    "def match_args(sub, cal):\n",
    "    sub, cal = merge_multi_line(sub), merge_multi_line(cal)\n",
    "    return list(zip(split_args(sub), split_args(cal)))"
   ]
  },
  {
   "cell_type": "code",
   "execution_count": 3,
   "metadata": {},
   "outputs": [
    {
     "data": {
      "text/plain": [
       "[('IOut', 'IOut'),\n",
       " ('IPrint', 'IPrint'),\n",
       " ('IDKHam', 'IDKHam'),\n",
       " ('DoBoet', 'DoBoet'),\n",
       " ('InBoet', 'InBoet'),\n",
       " ('DoSO', 'DKHSO'),\n",
       " ('NucDBF', 'NucDBF'),\n",
       " ('IRwT', 'IRwT'),\n",
       " ('IRwH', 'IRwH'),\n",
       " ('IRwSO', 'IRwSO'),\n",
       " ('NBasis', 'NBasF'),\n",
       " ('NBas6D', 'NBs6DF'),\n",
       " ('NPrmFn', 'NPrmFn'),\n",
       " ('IPureD', 'IPureD'),\n",
       " ('IPureF', 'IPureF'),\n",
       " ('Thresh', 'ThrDKH'),\n",
       " ('STV', 'V(jSTVF)'),\n",
       " ('AccDes', 'AccDes'),\n",
       " ('IAn', 'IAn'),\n",
       " ('IAtTyp', 'IAtTyp'),\n",
       " ('C', 'C'),\n",
       " ('AtmChg', 'AtmChg'),\n",
       " ('NAtoms', 'NAtoms'),\n",
       " ('JSym1E', 'JSym1Y'),\n",
       " ('NOp', 'NOp'),\n",
       " ('NEqShl', 'V(jNEqSh)'),\n",
       " ('NEqBas', 'V(jNEqB)'),\n",
       " ('RotOp', 'RotAll'),\n",
       " ('IPFlag', 'IPFl2E'),\n",
       " ('AllowP', 'Alow2E'),\n",
       " ('IPFlg1', 'IPFlg1'),\n",
       " ('AlowP1', 'AlowP1'),\n",
       " ('DoSpar', 'DoSpar'),\n",
       " ('NBT', 'NBT'),\n",
       " ('IPBC', 'V(jIPBC)'),\n",
       " ('CelVec', 'CelVec'),\n",
       " ('IHMeth', 'IHMeth'),\n",
       " ('FMM', 'FMM'),\n",
       " ('FMFlag', 'FMFlag'),\n",
       " ('FMFlg1', 'FMFlg1'),\n",
       " ('NFxFlg', 'NFxFlg'),\n",
       " ('LSEAll', 'LSEAll'),\n",
       " ('RSEAll', 'V(ISEAll)'),\n",
       " ('V', 'V(jV2)'),\n",
       " ('MDV', 'MDV3')]"
      ]
     },
     "execution_count": 3,
     "metadata": {},
     "output_type": "execute_result"
    }
   ],
   "source": [
    "match_args(\"\"\"            Subroutine SCFDIS(IOut,IPrint,IDITyp,IFSel,MaxCom,NIter,NumFS,\n",
    "     $  IOpCl,NBasis,NBsUse,NVQ,IRwPA,IRwPXA,IRwFA,IRwFXA,IRwPB,IRwPXB,\n",
    "     $  IRwFB,IRwFXB,IRwS,IRwV,IRwErr,IRwErQ,NSaved,IOB,IOPA,IOPB,IOFA,\n",
    "     $  IOFB,IOErr,UCofMx,A,C,D,BMat,Scr,ErrMax,IndFok,Energy,EnCyc,\n",
    "     $  ErrCyc,WFeI,WQeI,EWFeI,EWQeI,Scr3,LenSc3)\"\"\",\"\"\"            Call RelCor(IOut,IPrint,IDKHam,DoBoet,InBoet,DKHSO,NucDBF,\n",
    "     $        IRwT,IRwH,IRwSO,NBasF,NBs6DF,NPrmFn,IPureD,IPureF,ThrDKH,\n",
    "     $        V(jSTVF),AccDes,IAn,IAtTyp,C,AtmChg,NAtoms,JSym1Y,NOp,\n",
    "     $        V(jNEqSh),V(jNEqB),RotAll,IPFl2E,Alow2E,IPFlg1,AlowP1,\n",
    "     $        DoSpar,NBT,V(jIPBC),CelVec,IHMeth,FMM,FMFlag,FMFlg1,\n",
    "     $        NFxFlg,LSEAll,V(ISEAll),V(jV2),MDV3)\"\"\")"
   ]
  },
  {
   "cell_type": "code",
   "execution_count": 4,
   "metadata": {},
   "outputs": [
    {
     "data": {
      "text/plain": [
       "[('IOut', 'IOut'),\n",
       " ('IPrint', 'IPrint'),\n",
       " ('IDKHam', 'IDKHam'),\n",
       " ('DoSO', 'DoSO'),\n",
       " ('NBasis', 'NBasFn'),\n",
       " ('NBsUse', 'NBsUse'),\n",
       " ('S', 'STV(jS)'),\n",
       " ('T', 'STV(jT)'),\n",
       " ('V', 'STV(jV)'),\n",
       " ('DV', 'STV(jpVp)'),\n",
       " ('DxV', 'STV(jpxVp)'),\n",
       " ('U', 'V(jSVec)'),\n",
       " ('Eig', 'V(jE)'),\n",
       " ('Ep', 'V(jEp)'),\n",
       " ('A', 'V(jA)'),\n",
       " ('B', 'V(jB)'),\n",
       " ('R', 'V(jR)'),\n",
       " ('S1', 'V(jS1)'),\n",
       " ('S2', 'V(jS2)'),\n",
       " ('S3', 'V(jV1)'),\n",
       " ('LenS', 'MDV2')]"
      ]
     },
     "execution_count": 4,
     "metadata": {},
     "output_type": "execute_result"
    }
   ],
   "source": [
    "match_args(\"\"\"      Subroutine DKInt(IOut,IPrint,IDKHam,DoSO,NBasis,NBsUse,S,T,\n",
    "     $  V,DV,DxV,U,Eig,Ep,A,B,R,S1,S2,S3,LenS)\"\"\",\"\"\"      Call DKInt(IOut,IPrint,IDKHam,DoSO,NBasFn,NBsUse,STV(jS),\n",
    "     $  STV(jT),STV(jV),STV(jpVp),STV(jpxVp),V(jSVec),V(jE),V(jEp),\n",
    "     $  V(jA),V(jB),V(jR),V(jS1),V(jS2),V(jV1),MDV2)\"\"\")"
   ]
  },
  {
   "cell_type": "code",
   "execution_count": 5,
   "metadata": {},
   "outputs": [
    {
     "data": {
      "text/plain": [
       "[('IOut', 'IOut'),\n",
       " ('IPrint', 'IPrint'),\n",
       " ('DoSO', 'DoSO'),\n",
       " ('NBasis', 'NBsUse'),\n",
       " ('C', 'C'),\n",
       " ('p2', 'Eig'),\n",
       " ('Ep', 'Ep'),\n",
       " ('V', 'V'),\n",
       " ('pVp', 'DV'),\n",
       " ('pxVp', 'DxV'),\n",
       " ('VEff', 'S1'),\n",
       " ('Scr', 'S3'),\n",
       " ('LenS', 'LenS+NBSq')]"
      ]
     },
     "execution_count": 5,
     "metadata": {},
     "output_type": "execute_result"
    }
   ],
   "source": [
    "match_args(\"\"\"      Subroutine X2C(IOut,IPrint,DoSO,NBasis,C,p2,Ep,V,pVp,pxVp,VEff,\n",
    "     $  Scr,LenS)\"\"\",\"\"\"        Call X2C(IOut,IPrint,DoSO,NBsUse,C,Eig,Ep,V,DV,DxV,S1,\n",
    "     $    S3,LenS+NBSq)\"\"\")"
   ]
  },
  {
   "cell_type": "code",
   "execution_count": 6,
   "metadata": {},
   "outputs": [
    {
     "data": {
      "text/plain": [
       "[('IOut', 'IOut'),\n",
       " ('IPrint', 'IPrint'),\n",
       " ('IDKHam', 'IDKHam'),\n",
       " ('DoBoet', 'DoBoet'),\n",
       " ('InBoet', 'InBoet'),\n",
       " ('DoSO', 'DKHSO'),\n",
       " ('NucDBF', 'NucDBF'),\n",
       " ('IRwT', 'IRwT'),\n",
       " ('IRwH', 'IRwH'),\n",
       " ('IRwSO', 'IRwSO'),\n",
       " ('NBasis', 'NBasis'),\n",
       " ('NBas6D', 'NBas6D'),\n",
       " ('NPrmFn', 'NPrmFn'),\n",
       " ('IPureD', 'IPureD'),\n",
       " ('IPureF', 'IPureF'),\n",
       " ('Thresh', 'ThrDKH'),\n",
       " ('STV', 'V(jSTV)'),\n",
       " ('AccDes', 'AccDes'),\n",
       " ('IAn', 'IAn'),\n",
       " ('IAtTyp', 'IAtTyp'),\n",
       " ('C', 'C'),\n",
       " ('AtmChg', 'AtmChg'),\n",
       " ('NAtoms', 'NAtoms'),\n",
       " ('JSym1E', 'JSym1Y'),\n",
       " ('NOp', 'NOp'),\n",
       " ('NEqShl', 'V(jNEqSh)'),\n",
       " ('NEqBas', 'V(jNEqB)'),\n",
       " ('RotOp', 'RotAll'),\n",
       " ('IPFlag', 'IPFl2E'),\n",
       " ('AllowP', 'Alow2E'),\n",
       " ('IPFlg1', 'IPFlg1'),\n",
       " ('AlowP1', 'AlowP1'),\n",
       " ('DoSpar', 'DoSpar'),\n",
       " ('NBT', 'NBT'),\n",
       " ('IPBC', 'V(jIPBC)'),\n",
       " ('CelVec', 'CelVec'),\n",
       " ('IHMeth', 'IHMeth'),\n",
       " ('FMM', 'FMM'),\n",
       " ('FMFlag', 'FMFlag'),\n",
       " ('FMFlg1', 'FMFlg1'),\n",
       " ('NFxFlg', 'NFxFlg'),\n",
       " ('LSEAll', 'LSEAll'),\n",
       " ('RSEAll', 'V(ISEAll)'),\n",
       " ('V', 'V(jV1)'),\n",
       " ('MDV', 'MDV2')]"
      ]
     },
     "execution_count": 6,
     "metadata": {},
     "output_type": "execute_result"
    }
   ],
   "source": [
    "match_args(\"\"\"      Subroutine DLU(IOut,IPrint,IDKHam,DoBoet,InBoet,DoSO,NucDBF,\n",
    "     $  IRwT,IRwH,IRwSO,NBasis,NBas6D,NPrmFn,IPureD,IPureF,Thresh,STV,\n",
    "     $  AccDes,IAn,IAtTyp,C,AtmChg,NAtoms,JSym1E,NOp,NEqShl,NEqBas,\n",
    "     $  RotOp,IPFlag,AllowP,IPFlg1,AlowP1,DoSpar,NBT,IPBC,CelVec,IHMeth,\n",
    "     $  FMM,FMFlag,FMFlg1,NFxFlg,LSEAll,RSEAll,V,MDV)\"\"\",\"\"\"            Call DLU(IOut,IPrint,IDKHam,DoBoet,InBoet,DKHSO,NucDBF,\n",
    "     $      IRwT,IRwH,IRwSO,NBasis,NBas6D,NPrmFn,IPureD,IPureF,ThrDKH,\n",
    "     $      V(jSTV),AccDes,IAn,IAtTyp,C,AtmChg,NAtoms,JSym1Y,NOp,\n",
    "     $      V(jNEqSh),V(jNEqB),RotAll,IPFl2E,Alow2E,IPFlg1,AlowP1,\n",
    "     $      DoSpar,NBT,V(jIPBC),CelVec,IHMeth,FMM,FMFlag,FMFlg1,NFxFlg,\n",
    "     $      LSEAll,V(ISEAll),V(jV1),MDV2)\"\"\")"
   ]
  },
  {
   "cell_type": "code",
   "execution_count": 7,
   "metadata": {},
   "outputs": [
    {
     "data": {
      "text/plain": [
       "[('IOut', 'IOut'),\n",
       " ('IFmt', '1'),\n",
       " ('A', 'Scr(IX)'),\n",
       " ('NRI', 'NRI'),\n",
       " ('IRI', '0'),\n",
       " ('NDimBl', '2'),\n",
       " ('MD', 'NBD'),\n",
       " ('ND', 'NBD'),\n",
       " ('NRows', 'NBD'),\n",
       " ('NCols', 'NBD'),\n",
       " ('LRowI', '0'),\n",
       " ('LColI', '0'),\n",
       " ('RowLab', 'JJ'),\n",
       " ('ColLab', 'JJ'),\n",
       " ('ISym', '0'),\n",
       " ('Eig', 'Scr(IEig+NBD)'),\n",
       " ('IfEig', '1'),\n",
       " ('IncRow', '0'),\n",
       " ('IncCol', '0'),\n",
       " ('IndRow', 'JJ'),\n",
       " ('IndCol', 'JJ')]"
      ]
     },
     "execution_count": 7,
     "metadata": {},
     "output_type": "execute_result"
    }
   ],
   "source": [
    "match_args(\"\"\"      Subroutine MatPt2(IOut,IFmt,A,NRI,IRI,NDimBl,MD,ND,NRows,NCols,\n",
    "     $  LRowI,LColI,RowLab,ColLab,ISym,Eig,IfEig,IncRow,IncCol,IndRow,\n",
    "     $  IndCol)\"\"\",\"\"\"        Call MatPT2(IOut,1,Scr(IX),NRI,0,2,NBD,NBD,NBD,NBD,\n",
    "     $    0,0,JJ,JJ,0,Scr(IEig+NBD),1,0,0,JJ,JJ)\"\"\")"
   ]
  },
  {
   "cell_type": "code",
   "execution_count": 8,
   "metadata": {},
   "outputs": [
    {
     "data": {
      "text/plain": [
       "[('', '')]"
      ]
     },
     "execution_count": 8,
     "metadata": {},
     "output_type": "execute_result"
    }
   ],
   "source": [
    "match_args(\"\"\"\"\"\",\"\"\"\"\"\")"
   ]
  },
  {
   "cell_type": "code",
   "execution_count": null,
   "metadata": {},
   "outputs": [],
   "source": []
  }
 ],
 "metadata": {
  "kernelspec": {
   "display_name": "Python 3",
   "language": "python",
   "name": "python3"
  },
  "language_info": {
   "codemirror_mode": {
    "name": "ipython",
    "version": 3
   },
   "file_extension": ".py",
   "mimetype": "text/x-python",
   "name": "python",
   "nbconvert_exporter": "python",
   "pygments_lexer": "ipython3",
   "version": "3.8.8"
  }
 },
 "nbformat": 4,
 "nbformat_minor": 2
}
