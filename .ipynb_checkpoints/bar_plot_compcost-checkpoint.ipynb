{
 "cells": [
  {
   "cell_type": "code",
   "execution_count": 1,
   "metadata": {},
   "outputs": [],
   "source": [
    "import numpy as np\n",
    "import matplotlib.pyplot as plt"
   ]
  },
  {
   "cell_type": "code",
   "execution_count": 2,
   "metadata": {},
   "outputs": [],
   "source": [
    "def set_shared_ylabel(a, ylabel, labelpad = 0.01):\n",
    "    \"\"\"Set a y label shared by multiple axes\n",
    "    Parameters\n",
    "    ----------\n",
    "    a: list of axes\n",
    "    ylabel: string\n",
    "    labelpad: float\n",
    "        Sets the padding between ticklabels and axis label\"\"\"\n",
    "\n",
    "    f = a[0].get_figure()\n",
    "    f.canvas.draw() #sets f.canvas.renderer needed below\n",
    "\n",
    "    # get the center position for all plots\n",
    "    top = a[0].get_position().y1\n",
    "    bottom = a[-1].get_position().y0\n",
    "\n",
    "    # get the coordinates of the left side of the tick labels \n",
    "    x0 = 1\n",
    "    for at in a:\n",
    "        at.set_ylabel('') # just to make sure we don't and up with multiple labels\n",
    "        bboxes, _ = at.yaxis.get_ticklabel_extents(f.canvas.renderer)\n",
    "        bboxes = bboxes.inverse_transformed(f.transFigure)\n",
    "        xt = bboxes.x0\n",
    "        if xt < x0:\n",
    "            x0 = xt\n",
    "    tick_label_left = x0\n",
    "\n",
    "    # set position of label\n",
    "    a[-1].set_ylabel(ylabel)\n",
    "    a[-1].yaxis.set_label_coords(tick_label_left - labelpad,(bottom + top)/2, transform=f.transFigure)\n"
   ]
  },
  {
   "cell_type": "markdown",
   "metadata": {},
   "source": [
    "### Create Bar Plots for Small Systems"
   ]
  },
  {
   "cell_type": "code",
   "execution_count": 3,
   "metadata": {},
   "outputs": [],
   "source": [
    "# set height of bar\n",
    "coh2_simul_diis = np.array([0.073596072,0.182056733,0.10770202,0.139372822])  \n",
    "coh2_simul_nodiis = np.array([1.618568438,4.555271374,2.205019348,2.905923345])  \n",
    "coh2_stw_diis = np.array([1,1,1,1])\n",
    "\n",
    "# set height of bar\n",
    "hcn_simul_diis = np.array([0.162015133,0.337121743,0.200898033,0.258566851])\n",
    "hcn_simul_nodiis = np.array([3.277373915,9.076601593,4.811607337,6.850741523])\n",
    "hcn_stw_diis = np.array([1,1,1,1])\n",
    "\n",
    "# set height of bar\n",
    "fhf_simul_diis = np.array([0.259174223,0.919942565,0.415527326,0.590399957])\n",
    "fhf_simul_nodiis = np.array([5.399462972,13.32737305,7.233952986,10.79588493])\n",
    "fhf_stw_diis = np.array([1,1,1,1])"
   ]
  },
  {
   "cell_type": "code",
   "execution_count": 4,
   "metadata": {},
   "outputs": [],
   "source": [
    "# set width of bar\n",
    "barWidth = 0.1\n",
    "\n",
    "# Set position of bar on X axis\n",
    "br1 = np.arange(len(coh2_simul_diis))\n",
    "br2 = [x + barWidth for x in br1]\n",
    "br3 = [x + barWidth for x in br2]"
   ]
  },
  {
   "cell_type": "code",
   "execution_count": 18,
   "metadata": {},
   "outputs": [
    {
     "name": "stderr",
     "output_type": "stream",
     "text": [
      "/Users/aodongliu/opt/anaconda3/lib/python3.7/site-packages/ipykernel_launcher.py:11: UserWarning: This figure includes Axes that are not compatible with tight_layout, so results might be incorrect.\n",
      "  # This is added back by InteractiveShellApp.init_path()\n",
      "/Users/aodongliu/opt/anaconda3/lib/python3.7/site-packages/ipykernel_launcher.py:22: MatplotlibDeprecationWarning: \n",
      "The inverse_transformed function was deprecated in Matplotlib 3.3 and will be removed two minor releases later. Use transformed(transform.inverted()) instead.\n",
      "/Users/aodongliu/opt/anaconda3/lib/python3.7/site-packages/ipykernel_launcher.py:47: UserWarning: This figure includes Axes that are not compatible with tight_layout, so results might be incorrect.\n",
      "/Users/aodongliu/opt/anaconda3/lib/python3.7/site-packages/ipykernel_launcher.py:47: UserWarning: This figure includes Axes that are not compatible with tight_layout, so results might be incorrect.\n",
      "/Users/aodongliu/opt/anaconda3/lib/python3.7/site-packages/IPython/core/pylabtools.py:128: UserWarning: This figure includes Axes that are not compatible with tight_layout, so results might be incorrect.\n",
      "  fig.canvas.print_figure(bytes_io, **kw)\n"
     ]
    },
    {
     "data": {
      "image/png": "[encoded data removed]",
      "text/plain": [
       "<Figure size 432x432 with 3 Axes>"
      ]
     },
     "metadata": {
      "needs_background": "light"
     },
     "output_type": "display_data"
    }
   ],
   "source": [
    "fig, (ax1, ax2, ax3) = plt.subplots(3, 1,figsize =(6, 6), sharex=True, sharey='row', gridspec_kw={'hspace': 0.2},tight_layout=True)\n",
    "# fig = plt.figure(figsize =(16, 8),tight_layout=True)\n",
    "# ax1 = fig.add_subplot(311)\n",
    "# ax2 = fig.add_subplot(312)\n",
    "# ax3 = fig.add_subplot(313)\n",
    "\n",
    "ax1.bar(br3, coh2_simul_diis, color ='#599ad3', width = barWidth,\n",
    "        edgecolor ='black', label ='Simulaneous-DIIS')\n",
    "ax1.bar(br2, coh2_simul_nodiis, color ='#f9a65a', width = barWidth,\n",
    "        edgecolor ='black', label ='Simultaneous-NoDIIS')\n",
    "ax1.bar(br1, coh2_stw_diis, color ='#9e66ab', width = barWidth,\n",
    "        edgecolor ='black', label ='Stepwise-DIIS')\n",
    "ax1.legend(loc='upper right', fontsize=5)\n",
    "# ax1.set_xticks([r + barWidth for r in range(len(coh2_simul_diis))])\n",
    "# ax1.set_xticklabels(['cc-pvtz/pb4f2', 'cc-pvqz/pb4f2', 'cc-pvtz/pb4f1', 'cc-pvtz/pb4d'],fontsize=8)\n",
    "\n",
    "\n",
    "ax2.bar(br3, hcn_simul_diis, color ='#599ad3', width = barWidth,\n",
    "        edgecolor ='black', label ='Simul-DIIS')\n",
    "ax2.bar(br2, hcn_simul_nodiis, color ='#f9a65a', width = barWidth,\n",
    "        edgecolor ='black', label ='Simul-NoDIIS')\n",
    "ax2.bar(br1, hcn_stw_diis, color ='#9e66ab', width = barWidth,\n",
    "        edgecolor ='black', label ='STW-DIIS')\n",
    "# ax2.set_xticks([r + barWidth for r in range(len(coh2_simul_diis))])\n",
    "# ax2.set_xticklabels(['cc-pvtz/pb4f2', 'cc-pvqz/pb4f2', 'cc-pvtz/pb4f1', 'cc-pvtz/pb4d'],fontsize=8)\n",
    "\n",
    "\n",
    "ax3.bar(br3, fhf_simul_diis, color ='#599ad3', width = barWidth,\n",
    "        edgecolor ='black', label ='Simultaneous-DIIS')\n",
    "ax3.bar(br2, fhf_simul_nodiis, color ='#f9a65a', width = barWidth,\n",
    "        edgecolor ='black', label ='Simultaneous-NoDIIS')\n",
    "ax3.bar(br1, fhf_stw_diis, color ='#9e66ab', width = barWidth,\n",
    "        edgecolor ='black', label ='Stepwise-DIIS')\n",
    "ax3.set_xticks([r + barWidth for r in range(len(coh2_simul_diis))])\n",
    "ax3.set_xticklabels(['cc-pvtz/pb4f2', 'cc-pvqz/pb4f2', 'cc-pvtz/pb4f1', 'cc-pvtz/pb4d'],fontsize=8)\n",
    "#ax3.set_yticks(np.arange(0, max(fhf_simul_nodiis)+1, 2))\n",
    "\n",
    "ax1.title.set_text('COH$_2$')\n",
    "ax2.title.set_text('HCN')\n",
    "ax3.title.set_text('FHF$^-$')\n",
    "\n",
    "\n",
    "plt.xlabel(\"Basis Set Used for Electrons/Quantum Protons\")\n",
    "set_shared_ylabel((ax1, ax2, ax3), 'Computational Cost (Normalized )')\n",
    "\n",
    "\n",
    "plt.savefig('small_system_AlgvsCompCost.pdf',dpi=300)\n",
    "plt.show()\n"
   ]
  },
  {
   "cell_type": "markdown",
   "metadata": {},
   "source": [
    "### Create Bar Plots for Protonated Water Tetramer"
   ]
  },
  {
   "cell_type": "code",
   "execution_count": 88,
   "metadata": {},
   "outputs": [],
   "source": [
    "# set height of bar\n",
    "TetraH2O_simul_diis = np.array([0.167362977,0.160866967,0.157324061,0.171695507])  \n",
    "TetraH2O_simul_nodiis = np.array([2.470596322,2.374006457,2.415777295,2.456789079])  \n",
    "TetraH2O_stw_diis = np.array([1,1,1,1])"
   ]
  },
  {
   "cell_type": "code",
   "execution_count": 89,
   "metadata": {},
   "outputs": [],
   "source": [
    "# set width of bar\n",
    "barWidth = 0.1\n",
    "\n",
    "# Set position of bar on X axis\n",
    "br1 = np.arange(len(TetraH2O_simul_diis))\n",
    "br2 = [x + barWidth for x in br1]\n",
    "br3 = [x + barWidth for x in br2]"
   ]
  },
  {
   "cell_type": "code",
   "execution_count": 90,
   "metadata": {},
   "outputs": [
    {
     "data": {
      "image/png": "[encoded data removed]",
      "text/plain": [
       "<Figure size 864x576 with 1 Axes>"
      ]
     },
     "metadata": {
      "needs_background": "light"
     },
     "output_type": "display_data"
    }
   ],
   "source": [
    "fig = plt.subplots(figsize =(12, 8))\n",
    " \n",
    "# Make the plot\n",
    "plt.bar(br3, TetraH2O_simul_diis, color ='#599ad3', width = barWidth,\n",
    "        edgecolor ='black', label ='Simul-DIIS')\n",
    "plt.bar(br2, TetraH2O_simul_nodiis, color ='#f9a65a', width = barWidth,\n",
    "        edgecolor ='black', label ='Simul-NoDIIS')\n",
    "plt.bar(br1, TetraH2O_stw_diis, color ='#9e66ab', width = barWidth,\n",
    "        edgecolor ='black', label ='STW-DIIS')\n",
    "\n",
    "# Adding Xticks\n",
    "plt.xlabel('Basis Sets')\n",
    "plt.ylabel('# of Fock Builds')\n",
    "plt.xticks([r + barWidth for r in range(len(TetraH2O_simul_diis))],\n",
    "        ['Eigen', 'Ring', 'cis-Zundel', 'trans-Zundel'])\n",
    "plt.yticks(np.arange(0,4, 1))\n",
    "\n",
    "plt.legend(loc='upper left')\n",
    "plt.xlabel(\"Different Isomers for Protonated Water Tetramer Complex\")\n",
    "plt.ylabel(\"Normalized Computational Cost\")\n",
    "\n",
    "plt.savefig('4H2O_AlgvsCompCost.pdf',dpi=600)\n",
    "plt.show()"
   ]
  },
  {
   "cell_type": "code",
   "execution_count": null,
   "metadata": {},
   "outputs": [],
   "source": []
  }
 ],
 "metadata": {
  "kernelspec": {
   "display_name": "Python 3",
   "language": "python",
   "name": "python3"
  },
  "language_info": {
   "codemirror_mode": {
    "name": "ipython",
    "version": 3
   },
   "file_extension": ".py",
   "mimetype": "text/x-python",
   "name": "python",
   "nbconvert_exporter": "python",
   "pygments_lexer": "ipython3",
   "version": "3.7.4"
  }
 },
 "nbformat": 4,
 "nbformat_minor": 2
}
