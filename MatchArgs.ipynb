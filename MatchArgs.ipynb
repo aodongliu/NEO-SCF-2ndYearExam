{
 "cells": [
  {
   "cell_type": "code",
   "execution_count": 1,
   "metadata": {},
   "outputs": [],
   "source": [
    "def merge_multi_line(lines, fortran = True):\n",
    "    if fortran:\n",
    "        return ''.join([line[6:].strip() for line in lines.splitlines()])\n",
    "    else:\n",
    "        return ''.join([line.strip() for line in lines.splitlines()])\n",
    "def uneven_parentheses(line):\n",
    "    return line.count('(') - line.count(')')\n",
    "def split_args(args):\n",
    "    tmp_arg_list = args[args.find('(')+1: args.rfind(')')].split(',')\n",
    "    arg_list = []\n",
    "    uneven_rank = 0\n",
    "    tmp_str = \"\"\n",
    "    for arg in tmp_arg_list:\n",
    "        uneven_rank += uneven_parentheses(arg)\n",
    "        if uneven_rank != 0:\n",
    "            tmp_str += arg + ','\n",
    "        else:\n",
    "            tmp_str += arg\n",
    "            arg_list.append(tmp_str)\n",
    "            tmp_str = \"\"\n",
    "    return arg_list"
   ]
  },
  {
   "cell_type": "code",
   "execution_count": 2,
   "metadata": {},
   "outputs": [],
   "source": [
    "def match_args(sub, cal):\n",
    "    sub, cal = merge_multi_line(sub), merge_multi_line(cal)\n",
    "    return list(zip(split_args(sub), split_args(cal)))"
   ]
  },
  {
   "cell_type": "code",
   "execution_count": 3,
   "metadata": {},
   "outputs": [
    {
     "data": {
      "text/plain": [
       "[('IOut', 'IOut'),\n",
       " ('IPrint', 'IPrint'),\n",
       " ('1', 'IDITyp'),\n",
       " ('0', 'IFSel'),\n",
       " ('MaxCom', 'MaxCom'),\n",
       " ('ISIter-1', 'NIter'),\n",
       " ('1', 'NumFS'),\n",
       " ('IOpCl', 'IOpCl'),\n",
       " ('NBsNEO', 'NBasis'),\n",
       " ('NBUNEO', 'NBsUse'),\n",
       " ('NBasis', 'NBsNEO'),\n",
       " ('NBasis', 'NBuNEO'),\n",
       " ('0', 'NVQ'),\n",
       " ('IRwNED', 'IRwPA'),\n",
       " ('0', 'IRwPXA'),\n",
       " ('IRwNEF', 'IRwFA'),\n",
       " ('0', 'IRwFXA'),\n",
       " ('0', 'FNN'),\n",
       " ('0', 'FNE'),\n",
       " ('0', 'IRwPB'),\n",
       " ('0', 'IRwPXB'),\n",
       " ('IRwNES', 'IRwFB'),\n",
       " ('IRwNEV', 'IRwFXB'),\n",
       " ('0', 'IRwS'),\n",
       " ('0', 'IRwV'),\n",
       " ('0', 'IRwNED'),\n",
       " ('0', 'IRwNEF'),\n",
       " ('0', 'IRwNES'),\n",
       " ('0', 'IRwNEV'),\n",
       " ('0', 'IRwErr'),\n",
       " ('NFPSav', 'IRwErN'),\n",
       " ('IOBDIS', 'IRwErQ'),\n",
       " ('IOPADI', 'NSaved'),\n",
       " ('IOPBDI', 'IOB'),\n",
       " ('IOFADI', 'IOPA'),\n",
       " ('IOFBDI', 'IOPB'),\n",
       " ('IOErrDI', 'IOFA'),\n",
       " ('0', 'IOFB'),\n",
       " ('0', 'IOErr'),\n",
       " ('0', 'IOPNA'),\n",
       " ('0', 'IOFNA'),\n",
       " ('V(IScrA)', 'IOErrN'),\n",
       " ('V(IScrC)', 'UCofMx'),\n",
       " ('V(IScrD)', 'A'),\n",
       " ('JJ', 'C'),\n",
       " ('XX', 'D'),\n",
       " ('JJ', 'AN'),\n",
       " ('V(IBMat)', 'CN'),\n",
       " ('V(IScrCof)', 'DN'),\n",
       " ('ErrMax', 'BMat'),\n",
       " ('IndFok', 'Scr'),\n",
       " ('Energy', 'ErrMax'),\n",
       " ('EnCyc', 'IndFok'),\n",
       " ('ErrCyc', 'Energy'),\n",
       " ('1', 'EnCyc'),\n",
       " ('0', 'ErrCyc'),\n",
       " ('1', 'WFeI'),\n",
       " ('0', 'WQeI'),\n",
       " ('IRwFNN', 'EWFeI'),\n",
       " ('IRwFNE', 'EWQeI'),\n",
       " ('V(IV)', 'IRwFNN'),\n",
       " ('MDV1', 'IRwFNE')]"
      ]
     },
     "execution_count": 3,
     "metadata": {},
     "output_type": "execute_result"
    }
   ],
   "source": [
    "match_args(\"\"\"                                                          Call NEODIS(IOut,IPrint,1,0,MaxCom,ISIter-1,1,IOpCl,NBsNEO,\n",
    "     $        NBUNEO,NBasis,NBasis,0,IRwNED,0,IRwNEF,0,0,0,0,0,IRwNES,\n",
    "     $        IRwNEV,0,0,\n",
    "     $        0,0,0,0,0,NFPSav,IOBDIS,IOPADI,IOPBDI,IOFADI,IOFBDI,\n",
    "     $        IOErrDI,0,0,0,0,V(IScrA),V(IScrC),V(IScrD),JJ,XX,JJ,\n",
    "     $        V(IBMat),V(IScrCof),ErrMax,IndFok,Energy,EnCyc,ErrCyc,\n",
    "     $        1,0,1,0,IRwFNN,IRwFNE,V(IV),MDV1)\n",
    "\"\"\",\"\"\"                                  Subroutine NEODIS(IOut,IPrint,IDITyp,IFSel,MaxCom,NIter,NumFS,\n",
    "     $  IOpCl,NBasis,NBsUse,NBsNEO,NBuNEO,NVQ,IRwPA,IRwPXA,IRwFA,IRwFXA,\n",
    "     $  FNN,FNE,IRwPB,IRwPXB,IRwFB,IRwFXB,IRwS,IRwV,IRwNED,IRwNEF,\n",
    "     $  IRwNES,IRwNEV,\n",
    "     $  IRwErr,IRwErN,IRwErQ,NSaved,IOB,IOPA,IOPB,IOFA,IOFB,\n",
    "     $  IOErr,IOPNA,IOFNA,IOErrN,UCofMx,A,C,D,AN,CN,DN,BMat,Scr,ErrMax,\n",
    "     $  IndFok,Energy,EnCyc,ErrCyc,WFeI,WQeI,EWFeI,EWQeI,\n",
    "     $  IRwFNN,IRwFNE,Scr3,LenSc3)\n",
    "\"\"\")"
   ]
  },
  {
   "cell_type": "code",
   "execution_count": 4,
   "metadata": {},
   "outputs": [
    {
     "data": {
      "text/plain": [
       "[('IOut', 'IOut'),\n",
       " ('IPrint', 'IPrint'),\n",
       " ('1', '1'),\n",
       " ('0', '0'),\n",
       " ('MaxCom', 'MaxCom'),\n",
       " ('ISIter', 'ISIter'),\n",
       " ('1', '1'),\n",
       " ('IOpCl', 'IOpCl'),\n",
       " ('NBsNEO', 'NBasis'),\n",
       " ('NBUNEO', 'NBsUse'),\n",
       " ('0', '0'),\n",
       " ('0', '0'),\n",
       " ('0', '0'),\n",
       " ('IRwNED', 'IRwPA'),\n",
       " ('0', '0'),\n",
       " ('IRwNEF', 'IRwFA'),\n",
       " ('0', '0'),\n",
       " ('0', 'IRwPB'),\n",
       " ('0', '0'),\n",
       " ('0', 'IRwFB'),\n",
       " ('0', '0'),\n",
       " ('IRwNES', 'IRwS'),\n",
       " ('IRwNEV', 'IRwV'),\n",
       " ('0', '0'),\n",
       " ('0', '0'),\n",
       " ('0', '0'),\n",
       " ('0', '0'),\n",
       " ('0', '0'),\n",
       " ('0', '0'),\n",
       " ('0', '0'),\n",
       " ('NFPSav', 'NFESav'),\n",
       " ('IOBDIS', 'IOBDIS'),\n",
       " ('IOPADI', 'IOPADI'),\n",
       " ('IOPBDI', 'IOPBDI'),\n",
       " ('IOFADI', 'IOFADI'),\n",
       " ('IOFBDI', 'IOFBDI'),\n",
       " ('IOErrDI', 'IOErrDI'),\n",
       " ('0', '0'),\n",
       " ('0', '0'),\n",
       " ('0', '0'),\n",
       " ('0', '0'),\n",
       " ('V(IScrA)', 'V(IScrA)'),\n",
       " ('V(IScrC)', 'V(IScrC)'),\n",
       " ('V(IScrD)', 'V(IScrD)'),\n",
       " ('JJ', 'JJ'),\n",
       " ('XX', 'XX'),\n",
       " ('JJ', 'JJ'),\n",
       " ('V(IBMat)', 'V(IBMat)'),\n",
       " ('V(IScrCof)', 'V(IScrCof)'),\n",
       " ('ErrMax', 'ErrMax'),\n",
       " ('IndFok', 'IndFok'),\n",
       " ('Energy', 'Energy'),\n",
       " ('EnCyc', 'EnCyc'),\n",
       " ('ErrCyc', 'ErrCyc'),\n",
       " ('1', '1'),\n",
       " ('0', '0'),\n",
       " ('1', '1'),\n",
       " ('0', '0'),\n",
       " ('V(IV)', 'V(IV)'),\n",
       " ('MDV1', 'MDV1')]"
      ]
     },
     "execution_count": 4,
     "metadata": {},
     "output_type": "execute_result"
    }
   ],
   "source": [
    "match_args(\"\"\"                          Call SCFDIS(IOut,IPrint,1,0,MaxCom,ISIter,1,IOpCl,NBsNEO,\n",
    "     $        NBUNEO,0,0,0,IRwNED,0,IRwNEF,0,0,0,0,0,IRwNES,IRwNEV,0,0,\n",
    "     $        0,0,0,0,0,NFPSav,IOBDIS,IOPADI,IOPBDI,IOFADI,IOFBDI,\n",
    "     $        IOErrDI,0,0,0,0,V(IScrA),V(IScrC),V(IScrD),JJ,XX,JJ,\n",
    "     $        V(IBMat),V(IScrCof),ErrMax,IndFok,Energy,EnCyc,ErrCyc,\n",
    "     $        1,0,1,0,V(IV),MDV1)\"\"\",\"\"\"                           Call SCFDIS(IOut,IPrint,1,0,MaxCom,ISIter,1,IOpCl,NBasis,\n",
    "     $        NBsUse,0,0,0,IRwPA,0,IRwFA,0,IRwPB,0,IRwFB,0,IRwS,IRwV,0,\n",
    "     $        0,0,0,0,0,0,NFESav,IOBDIS,IOPADI,IOPBDI,IOFADI,IOFBDI,\n",
    "     $        IOErrDI,0,0,0,0,V(IScrA),V(IScrC),V(IScrD),JJ,XX,JJ,\n",
    "     $        V(IBMat),V(IScrCof),ErrMax,IndFok,Energy,EnCyc,ErrCyc,1,0,\n",
    "     $        1,0,V(IV),MDV1)\n",
    "\n",
    "\"\"\")"
   ]
  },
  {
   "cell_type": "code",
   "execution_count": 5,
   "metadata": {},
   "outputs": [
    {
     "data": {
      "text/plain": [
       "[('IOut', 'IOut'),\n",
       " ('IPrint', 'IPrint'),\n",
       " ('DoSO', 'DoSO'),\n",
       " ('NBasis', 'NBsUse'),\n",
       " ('C', 'C'),\n",
       " ('p2', 'Eig'),\n",
       " ('Ep', 'Ep'),\n",
       " ('V', 'V'),\n",
       " ('pVp', 'DV'),\n",
       " ('pxVp', 'DxV'),\n",
       " ('VEff', 'S1'),\n",
       " ('Scr', 'S3'),\n",
       " ('LenS', 'LenS+NBSq')]"
      ]
     },
     "execution_count": 5,
     "metadata": {},
     "output_type": "execute_result"
    }
   ],
   "source": [
    "match_args(\"\"\"      Subroutine X2C(IOut,IPrint,DoSO,NBasis,C,p2,Ep,V,pVp,pxVp,VEff,\n",
    "     $  Scr,LenS)\"\"\",\"\"\"        Call X2C(IOut,IPrint,DoSO,NBsUse,C,Eig,Ep,V,DV,DxV,S1,\n",
    "     $    S3,LenS+NBSq)\"\"\")"
   ]
  },
  {
   "cell_type": "code",
   "execution_count": 6,
   "metadata": {},
   "outputs": [
    {
     "data": {
      "text/plain": [
       "[('IOut', 'IOut'),\n",
       " ('IPrint', 'IPrint'),\n",
       " ('IDKHam', 'IDKHam'),\n",
       " ('DoBoet', 'DoBoet'),\n",
       " ('InBoet', 'InBoet'),\n",
       " ('DoSO', 'DKHSO'),\n",
       " ('NucDBF', 'NucDBF'),\n",
       " ('IRwT', 'IRwT'),\n",
       " ('IRwH', 'IRwH'),\n",
       " ('IRwSO', 'IRwSO'),\n",
       " ('NBasis', 'NBasis'),\n",
       " ('NBas6D', 'NBas6D'),\n",
       " ('NPrmFn', 'NPrmFn'),\n",
       " ('IPureD', 'IPureD'),\n",
       " ('IPureF', 'IPureF'),\n",
       " ('Thresh', 'ThrDKH'),\n",
       " ('STV', 'V(jSTV)'),\n",
       " ('AccDes', 'AccDes'),\n",
       " ('IAn', 'IAn'),\n",
       " ('IAtTyp', 'IAtTyp'),\n",
       " ('C', 'C'),\n",
       " ('AtmChg', 'AtmChg'),\n",
       " ('NAtoms', 'NAtoms'),\n",
       " ('JSym1E', 'JSym1Y'),\n",
       " ('NOp', 'NOp'),\n",
       " ('NEqShl', 'V(jNEqSh)'),\n",
       " ('NEqBas', 'V(jNEqB)'),\n",
       " ('RotOp', 'RotAll'),\n",
       " ('IPFlag', 'IPFl2E'),\n",
       " ('AllowP', 'Alow2E'),\n",
       " ('IPFlg1', 'IPFlg1'),\n",
       " ('AlowP1', 'AlowP1'),\n",
       " ('DoSpar', 'DoSpar'),\n",
       " ('NBT', 'NBT'),\n",
       " ('IPBC', 'V(jIPBC)'),\n",
       " ('CelVec', 'CelVec'),\n",
       " ('IHMeth', 'IHMeth'),\n",
       " ('FMM', 'FMM'),\n",
       " ('FMFlag', 'FMFlag'),\n",
       " ('FMFlg1', 'FMFlg1'),\n",
       " ('NFxFlg', 'NFxFlg'),\n",
       " ('LSEAll', 'LSEAll'),\n",
       " ('RSEAll', 'V(ISEAll)'),\n",
       " ('V', 'V(jV1)'),\n",
       " ('MDV', 'MDV2')]"
      ]
     },
     "execution_count": 6,
     "metadata": {},
     "output_type": "execute_result"
    }
   ],
   "source": [
    "match_args(\"\"\"      Subroutine DLU(IOut,IPrint,IDKHam,DoBoet,InBoet,DoSO,NucDBF,\n",
    "     $  IRwT,IRwH,IRwSO,NBasis,NBas6D,NPrmFn,IPureD,IPureF,Thresh,STV,\n",
    "     $  AccDes,IAn,IAtTyp,C,AtmChg,NAtoms,JSym1E,NOp,NEqShl,NEqBas,\n",
    "     $  RotOp,IPFlag,AllowP,IPFlg1,AlowP1,DoSpar,NBT,IPBC,CelVec,IHMeth,\n",
    "     $  FMM,FMFlag,FMFlg1,NFxFlg,LSEAll,RSEAll,V,MDV)\"\"\",\"\"\"            Call DLU(IOut,IPrint,IDKHam,DoBoet,InBoet,DKHSO,NucDBF,\n",
    "     $      IRwT,IRwH,IRwSO,NBasis,NBas6D,NPrmFn,IPureD,IPureF,ThrDKH,\n",
    "     $      V(jSTV),AccDes,IAn,IAtTyp,C,AtmChg,NAtoms,JSym1Y,NOp,\n",
    "     $      V(jNEqSh),V(jNEqB),RotAll,IPFl2E,Alow2E,IPFlg1,AlowP1,\n",
    "     $      DoSpar,NBT,V(jIPBC),CelVec,IHMeth,FMM,FMFlag,FMFlg1,NFxFlg,\n",
    "     $      LSEAll,V(ISEAll),V(jV1),MDV2)\"\"\")"
   ]
  },
  {
   "cell_type": "code",
   "execution_count": 7,
   "metadata": {},
   "outputs": [
    {
     "data": {
      "text/plain": [
       "[('IOut', 'IOut'),\n",
       " ('IFmt', '1'),\n",
       " ('A', 'Scr(IX)'),\n",
       " ('NRI', 'NRI'),\n",
       " ('IRI', '0'),\n",
       " ('NDimBl', '2'),\n",
       " ('MD', 'NBD'),\n",
       " ('ND', 'NBD'),\n",
       " ('NRows', 'NBD'),\n",
       " ('NCols', 'NBD'),\n",
       " ('LRowI', '0'),\n",
       " ('LColI', '0'),\n",
       " ('RowLab', 'JJ'),\n",
       " ('ColLab', 'JJ'),\n",
       " ('ISym', '0'),\n",
       " ('Eig', 'Scr(IEig+NBD)'),\n",
       " ('IfEig', '1'),\n",
       " ('IncRow', '0'),\n",
       " ('IncCol', '0'),\n",
       " ('IndRow', 'JJ'),\n",
       " ('IndCol', 'JJ')]"
      ]
     },
     "execution_count": 7,
     "metadata": {},
     "output_type": "execute_result"
    }
   ],
   "source": [
    "match_args(\"\"\"      Subroutine MatPt2(IOut,IFmt,A,NRI,IRI,NDimBl,MD,ND,NRows,NCols,\n",
    "     $  LRowI,LColI,RowLab,ColLab,ISym,Eig,IfEig,IncRow,IncCol,IndRow,\n",
    "     $  IndCol)\"\"\",\"\"\"        Call MatPT2(IOut,1,Scr(IX),NRI,0,2,NBD,NBD,NBD,NBD,\n",
    "     $    0,0,JJ,JJ,0,Scr(IEig+NBD),1,0,0,JJ,JJ)\"\"\")"
   ]
  },
  {
   "cell_type": "code",
   "execution_count": 8,
   "metadata": {},
   "outputs": [
    {
     "data": {
      "text/plain": [
       "[('', '')]"
      ]
     },
     "execution_count": 8,
     "metadata": {},
     "output_type": "execute_result"
    }
   ],
   "source": [
    "match_args(\"\"\"\"\"\",\"\"\"\"\"\")"
   ]
  },
  {
   "cell_type": "code",
   "execution_count": null,
   "metadata": {},
   "outputs": [],
   "source": []
  }
 ],
 "metadata": {
  "kernelspec": {
   "display_name": "Python 3",
   "language": "python",
   "name": "python3"
  },
  "language_info": {
   "codemirror_mode": {
    "name": "ipython",
    "version": 3
   },
   "file_extension": ".py",
   "mimetype": "text/x-python",
   "name": "python",
   "nbconvert_exporter": "python",
   "pygments_lexer": "ipython3",
   "version": "3.8.8"
  }
 },
 "nbformat": 4,
 "nbformat_minor": 2
}
